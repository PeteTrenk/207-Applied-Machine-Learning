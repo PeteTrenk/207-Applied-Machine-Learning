{
 "cells": [
  {
   "cell_type": "markdown",
   "metadata": {},
   "source": [
    "# Project 2: Topic Classification"
   ]
  },
  {
   "cell_type": "markdown",
   "metadata": {},
   "source": [
    "In this project, you'll work with text data from newsgroup postings on a variety of topics. You'll train classifiers to distinguish between the topics based on the text of the posts. Whereas with digit classification, the input is relatively dense: a 28x28 matrix of pixels, many of which are non-zero, here we'll represent each document with a \"bag-of-words\" model. As you'll see, this makes the feature representation quite sparse -- only a few words of the total vocabulary are active in any given document. The bag-of-words assumption here is that the label depends only on the words; their order is not important.\n",
    "\n",
    "The SK-learn documentation on feature extraction will prove useful:\n",
    "http://scikit-learn.org/stable/modules/feature_extraction.html\n",
    "\n",
    "Each problem can be addressed succinctly with the included packages -- please don't add any more. Grading will be based on writing clean, commented code, along with a few short answers.\n",
    "\n",
    "As always, you're welcome to work on the project in groups and discuss ideas on the course wall, but please prepare your own write-up and write your own code."
   ]
  },
  {
   "cell_type": "code",
   "execution_count": 1,
   "metadata": {},
   "outputs": [
    {
     "name": "stderr",
     "output_type": "stream",
     "text": [
      "/Applications/anaconda3/lib/python3.6/site-packages/sklearn/cross_validation.py:41: DeprecationWarning: This module was deprecated in version 0.18 in favor of the model_selection module into which all the refactored classes and functions are moved. Also note that the interface of the new CV iterators are different from that of this module. This module will be removed in 0.20.\n",
      "  \"This module will be removed in 0.20.\", DeprecationWarning)\n",
      "/Applications/anaconda3/lib/python3.6/site-packages/sklearn/grid_search.py:42: DeprecationWarning: This module was deprecated in version 0.18 in favor of the model_selection module into which all the refactored classes and functions are moved. This module will be removed in 0.20.\n",
      "  DeprecationWarning)\n"
     ]
    }
   ],
   "source": [
    "# This tells matplotlib not to try opening a new window for each plot.\n",
    "%matplotlib inline\n",
    "\n",
    "# General libraries.\n",
    "import re\n",
    "import numpy as np\n",
    "import matplotlib.pyplot as plt\n",
    "\n",
    "# SK-learn libraries for learning.\n",
    "from sklearn.pipeline import Pipeline\n",
    "from sklearn.neighbors import KNeighborsClassifier\n",
    "from sklearn.linear_model import LogisticRegression\n",
    "from sklearn.naive_bayes import BernoulliNB\n",
    "from sklearn.naive_bayes import MultinomialNB\n",
    "from sklearn.grid_search import GridSearchCV\n",
    "\n",
    "# SK-learn libraries for evaluation.\n",
    "from sklearn.metrics import confusion_matrix\n",
    "from sklearn import metrics\n",
    "from sklearn.metrics import classification_report\n",
    "\n",
    "# SK-learn library for importing the newsgroup data.\n",
    "from sklearn.datasets import fetch_20newsgroups\n",
    "\n",
    "# SK-learn libraries for feature extraction from text.\n",
    "from sklearn.feature_extraction.text import *"
   ]
  },
  {
   "cell_type": "markdown",
   "metadata": {},
   "source": [
    "Load the data, stripping out metadata so that we learn classifiers that only use textual features. By default, newsgroups data is split into train and test sets. We further split the test so we have a dev set. Note that we specify 4 categories to use for this project. If you remove the categories argument from the fetch function, you'll get all 20 categories."
   ]
  },
  {
   "cell_type": "code",
   "execution_count": 2,
   "metadata": {
    "collapsed": true
   },
   "outputs": [],
   "source": [
    "categories = ['alt.atheism', 'talk.religion.misc', 'comp.graphics', 'sci.space']\n",
    "newsgroups_train = fetch_20newsgroups(subset='train',\n",
    "                                      remove=('headers', 'footers', 'quotes'),\n",
    "                                      categories=categories)\n",
    "newsgroups_test = fetch_20newsgroups(subset='test',\n",
    "                                     remove=('headers', 'footers', 'quotes'),\n",
    "                                     categories=categories)\n",
    "\n"
   ]
  },
  {
   "cell_type": "code",
   "execution_count": 29,
   "metadata": {},
   "outputs": [
    {
     "name": "stdout",
     "output_type": "stream",
     "text": [
      "training label shape: (2034,)\n",
      "test label shape: (677,)\n",
      "dev label shape: (677,)\n",
      "labels names: ['alt.atheism', 'comp.graphics', 'sci.space', 'talk.religion.misc']\n"
     ]
    }
   ],
   "source": [
    "num_test = len(newsgroups_test.target)\n",
    "test_cut = int(num_test/2)\n",
    "test_data, test_labels = newsgroups_test.data[test_cut:], newsgroups_test.target[test_cut:]\n",
    "dev_data, dev_labels = newsgroups_test.data[:num_test-test_cut], newsgroups_test.target[:num_test-test_cut]\n",
    "train_data, train_labels = newsgroups_train.data, newsgroups_train.target\n",
    "\n",
    "print('training label shape:', train_labels.shape)\n",
    "print('test label shape:', test_labels.shape)\n",
    "print('dev label shape:', dev_labels.shape)\n",
    "print('labels names:', newsgroups_train.target_names)\n"
   ]
  },
  {
   "cell_type": "markdown",
   "metadata": {},
   "source": [
    "(1) For each of the first 5 training examples, print the text of the message along with the label.\n",
    "\n",
    "[2 pts]"
   ]
  },
  {
   "cell_type": "code",
   "execution_count": 4,
   "metadata": {},
   "outputs": [
    {
     "name": "stdout",
     "output_type": "stream",
     "text": [
      "\u001b[31m\u001b[1mcomp.graphics\u001b[0m \n",
      " \u001b[30mHi,\n",
      "\n",
      "I've noticed that if you only save a model (with all your mapping planes\n",
      "positioned carefully) to a .3DS file that when you reload it after restarting\n",
      "3DS, they are given a default position and orientation.  But if you save\n",
      "to a .PRJ file their positions/orientation are preserved.  Does anyone\n",
      "know why this information is not stored in the .3DS file?  Nothing is\n",
      "explicitly said in the manual about saving texture rules in the .PRJ file. \n",
      "I'd like to be able to read the texture rule information, does anyone have \n",
      "the format for the .PRJ file?\n",
      "\n",
      "Is the .CEL file format available from somewhere?\n",
      "\n",
      "Rych \n",
      "\n",
      "\u001b[31m\u001b[1mtalk.religion.misc\u001b[0m \n",
      " \u001b[30m\n",
      "\n",
      "Seems to be, barring evidence to the contrary, that Koresh was simply\n",
      "another deranged fanatic who thought it neccessary to take a whole bunch of\n",
      "folks with him, children and all, to satisfy his delusional mania. Jim\n",
      "Jones, circa 1993.\n",
      "\n",
      "\n",
      "Nope - fruitcakes like Koresh have been demonstrating such evil corruption\n",
      "for centuries. \n",
      "\n",
      "\u001b[31m\u001b[1msci.space\u001b[0m \n",
      " \u001b[30m\n",
      " >In article <1993Apr19.020359.26996@sq.sq.com>, msb@sq.sq.com (Mark Brader) \n",
      "\n",
      "MB>                                                             So the\n",
      "MB> 1970 figure seems unlikely to actually be anything but a perijove.\n",
      "\n",
      "JG>Sorry, _perijoves_...I'm not used to talking this language.\n",
      "\n",
      "Couldn't we just say periapsis or apoapsis?\n",
      "\n",
      "  \n",
      "\n",
      "\u001b[31m\u001b[1malt.atheism\u001b[0m \n",
      " \u001b[30mI have a request for those who would like to see Charley Wingate\n",
      "respond to the \"Charley Challenges\" (and judging from my e-mail, there\n",
      "appear to be quite a few of you.)  \n",
      "\n",
      "It is clear that Mr. Wingate intends to continue to post tangential or\n",
      "unrelated articles while ingoring the Challenges themselves.  Between\n",
      "the last two re-postings of the Challenges, I noted perhaps a dozen or\n",
      "more posts by Mr. Wingate, none of which answered a single Challenge.  \n",
      "\n",
      "It seems unmistakable to me that Mr. Wingate hopes that the questions\n",
      "will just go away, and he is doing his level best to change the\n",
      "subject.  Given that this seems a rather common net.theist tactic, I\n",
      "would like to suggest that we impress upon him our desire for answers,\n",
      "in the following manner:\n",
      "\n",
      "1. Ignore any future articles by Mr. Wingate that do not address the\n",
      "Challenges, until he answers them or explictly announces that he\n",
      "refuses to do so.\n",
      "\n",
      "--or--\n",
      "\n",
      "2. If you must respond to one of his articles, include within it\n",
      "something similar to the following:\n",
      "\n",
      "    \"Please answer the questions posed to you in the Charley Challenges.\"\n",
      "\n",
      "Really, I'm not looking to humiliate anyone here, I just want some\n",
      "honest answers.  You wouldn't think that honesty would be too much to\n",
      "ask from a devout Christian, would you?  \n",
      "\n",
      "Nevermind, that was a rhetorical question. \n",
      "\n",
      "\u001b[31m\u001b[1msci.space\u001b[0m \n",
      " \u001b[30mAW&ST  had a brief blurb on a Manned Lunar Exploration confernce\n",
      "May 7th  at Crystal City Virginia, under the auspices of AIAA.\n",
      "\n",
      "Does anyone know more about this?  How much, to attend????\n",
      "\n",
      "Anyone want to go? \n",
      "\n"
     ]
    }
   ],
   "source": [
    "def P1(num_examples=5):\n",
    "### STUDENT START ###\n",
    "    #this function prints the label category in bold, red and its corresponding content in black below it\n",
    "    for i in range(num_examples):\n",
    "        print(u\"\\u001b[31m\"+ \"\\033[1m\"+newsgroups_train.target_names[train_labels[i]]+\"\\033[0m\",\n",
    "              \"\\n\",\n",
    "              u\"\\u001b[30m\"+train_data[i],\n",
    "              \"\\n\")\n",
    "### STUDENT END ###\n",
    "P1(5)"
   ]
  },
  {
   "cell_type": "markdown",
   "metadata": {},
   "source": [
    "(2) Use CountVectorizer to turn the raw training text into feature vectors. You should use the fit_transform function, which makes 2 passes through the data: first it computes the vocabulary (\"fit\"), second it converts the raw text into feature vectors using the vocabulary (\"transform\").\n",
    "\n",
    "The vectorizer has a lot of options. To get familiar with some of them, write code to answer these questions:\n",
    "[6 pts]"
   ]
  },
  {
   "cell_type": "markdown",
   "metadata": {},
   "source": [
    "\n",
    "a. The output of the transform (also of fit_transform) is a sparse matrix: http://docs.scipy.org/doc/scipy-0.14.0/reference/generated/scipy.sparse.csr_matrix.html. What is the size of the vocabulary? What is the average number of non-zero features per example? What fraction of the entries in the matrix are non-zero? Hint: use \"nnz\" and \"shape\" attributes.\n"
   ]
  },
  {
   "cell_type": "code",
   "execution_count": 5,
   "metadata": {},
   "outputs": [
    {
     "name": "stdout",
     "output_type": "stream",
     "text": [
      "The size of the vocabulary is 26879\n",
      "The average number of non-zero features per example is 96.71\n",
      "The fraction of the entries in the matrix that are non-zero are 0.0036\n"
     ]
    }
   ],
   "source": [
    "#initialize instance of class CountVectorizer \n",
    "vectorizer = CountVectorizer()\n",
    "#convert a collection of text documents to a matrix of token counts and return\n",
    "# a Document-term matrix [n_samples, n_features]\n",
    "x = vectorizer.fit_transform(train_data)\n",
    "# Note to self: most feature/token (columnwise) entries for each text document will be zero since each vector (text document row) \n",
    "# is as long as the total number of tokens in the training set and the dimension (r,c) corresponds to the number of times a token is found \n",
    "# in the corresponding document/string. As a result, its more efficient to produce a sparse matrix object\n",
    "vocab_size = x.shape[1]\n",
    "mean_nnz = round(x.nnz/x.shape[0],2)\n",
    "proportion_nnz = round(x.nnz/(x.shape[0]*x.shape[1]),4)\n",
    "\n",
    "print(\"The size of the vocabulary is\",vocab_size)\n",
    "print(\"The average number of non-zero features per example is\",mean_nnz)\n",
    "print(\"The fraction of the entries in the matrix that are non-zero are\",proportion_nnz)\n"
   ]
  },
  {
   "cell_type": "markdown",
   "metadata": {},
   "source": [
    "b. What are the 0th and last feature strings (in alphabetical order)? Hint: use the vectorizer's get_feature_names function.\n"
   ]
  },
  {
   "cell_type": "code",
   "execution_count": 6,
   "metadata": {},
   "outputs": [
    {
     "name": "stdout",
     "output_type": "stream",
     "text": [
      "00\n",
      "zyxel\n"
     ]
    }
   ],
   "source": [
    "#vectorizer.get_feature_names()\n",
    "print(vectorizer.get_feature_names()[0])\n",
    "print(vectorizer.get_feature_names()[-1])"
   ]
  },
  {
   "cell_type": "markdown",
   "metadata": {},
   "source": [
    "QUESTION: What's the significance of the 1st entry 0 in the tuple (0, 2) when print(x[0]) is performed. The 2nd element in the tuple (2) is the integer mapping to the feature name, but what is the 0?"
   ]
  },
  {
   "cell_type": "markdown",
   "metadata": {},
   "source": [
    "\n",
    "c. Specify your own vocabulary with 4 words: [\"atheism\", \"graphics\", \"space\", \"religion\"]. Confirm the training vectors are appropriately shaped. Now what's the average number of non-zero features per example?"
   ]
  },
  {
   "cell_type": "code",
   "execution_count": 7,
   "metadata": {},
   "outputs": [
    {
     "name": "stdout",
     "output_type": "stream",
     "text": [
      "The training vectors have 2034 rows and 4 columns as expected.\n",
      "\n",
      "The average number of non-zero features per example is 0.27\n"
     ]
    }
   ],
   "source": [
    "# note to self: the .vocabulary_ attribute and get_feature_names method can be called from the instance of your\n",
    "# CountVectorizer class only after its fitted with text documents via the fit_transform method\n",
    "\n",
    "my_vocab = [\"atheism\", \"graphics\", \"space\", \"religion\"]\n",
    "new_vectorizer = CountVectorizer(vocabulary = my_vocab)\n",
    "x_1 = new_vectorizer.fit_transform(train_data)\n",
    "\n",
    "\n",
    "print('The training vectors have',x_1.shape[0],'rows and',x_1.shape[1],'columns as expected.')\n",
    "print(\"\")\n",
    "print('The average number of non-zero features per example is',round(x_1.nnz/x_1.shape[0],2))\n",
    "\n"
   ]
  },
  {
   "cell_type": "markdown",
   "metadata": {},
   "source": [
    "d. Instead of extracting unigram word features, use \"analyzer\" and \"ngram_range\" to extract bigram and trigram character features. What size vocabulary does this yield?"
   ]
  },
  {
   "cell_type": "code",
   "execution_count": 8,
   "metadata": {},
   "outputs": [
    {
     "name": "stdout",
     "output_type": "stream",
     "text": [
      "The size of the vocabulary using bigram and trigram character features is 35478\n"
     ]
    }
   ],
   "source": [
    "BiTriGram_vect = CountVectorizer(analyzer = \"char\",ngram_range=(2, 3))\n",
    "bt = BiTriGram_vect.fit_transform(train_data)\n",
    "print(\"The size of the vocabulary using bigram and trigram character features is\",bt.shape[1])"
   ]
  },
  {
   "cell_type": "markdown",
   "metadata": {},
   "source": [
    "e. Use the \"min_df\" argument to prune words that appear in fewer than 10 documents. What size vocabulary does this yield?"
   ]
  },
  {
   "cell_type": "code",
   "execution_count": 28,
   "metadata": {},
   "outputs": [
    {
     "name": "stdout",
     "output_type": "stream",
     "text": [
      "The size of the vocabulary after pruning words that occur in fewer than 10 documents is: 3064\n"
     ]
    }
   ],
   "source": [
    "prune_vect = CountVectorizer(min_df = 10)\n",
    "prune_vect_ft = prune_vect.fit_transform(train_data)\n",
    "print(\"The size of the vocabulary after pruning words that occur in fewer than 10 documents is:\",\n",
    "     prune_vect_ft.shape[1])"
   ]
  },
  {
   "cell_type": "markdown",
   "metadata": {},
   "source": [
    "f. Using the standard CountVectorizer, what fraction of the words in the dev data are missing from the vocabulary? Hint: build a vocabulary for both train and dev and look at the size of the difference."
   ]
  },
  {
   "cell_type": "markdown",
   "metadata": {},
   "source": [
    "QUESTION: Does this really tell you the fraction of words in the dev data missing from the vocabulary in the train data? Doesn't it tell you the fraction of words in the train data missing from the dev data since there are more words in the train data?"
   ]
  },
  {
   "cell_type": "code",
   "execution_count": 61,
   "metadata": {},
   "outputs": [
    {
     "name": "stdout",
     "output_type": "stream",
     "text": [
      "0.395 of the words in the dev data are missing from the vocabulary in train data\n"
     ]
    }
   ],
   "source": [
    "train_CV = CountVectorizer()\n",
    "dev_CV = CountVectorizer()\n",
    "train_CV_ft = train_CV.fit_transform(train_data)\n",
    "dev_CV_ft = dev_CV.fit_transform(dev_data)\n",
    "vocab_sizeTrain = train_CV_ft.shape[1]\n",
    "vocab_sizeDev = dev_CV_ft.shape[1]\n",
    "\n",
    "print(round((vocab_sizeTrain - vocab_sizeDev)/vocab_sizeTrain,3),\n",
    "      \"of the words in the dev data are missing from the vocabulary in train data\")\n"
   ]
  },
  {
   "cell_type": "markdown",
   "metadata": {},
   "source": [
    "(3) Use the default CountVectorizer options and report the f1 score (use metrics.f1_score) for a k nearest neighbors classifier; find the optimal value for k. Also fit a Multinomial Naive Bayes model and find the optimal value for alpha. Finally, fit a logistic regression model and find the optimal value for the regularization strength C using l2 regularization. A few questions:\n"
   ]
  },
  {
   "cell_type": "code",
   "execution_count": 7,
   "metadata": {},
   "outputs": [
    {
     "name": "stderr",
     "output_type": "stream",
     "text": [
      "/Applications/anaconda3/lib/python3.6/site-packages/sklearn/naive_bayes.py:472: UserWarning: alpha too small will result in numeric errors, setting alpha = 1.0e-10\n",
      "  'setting alpha = %.1e' % _ALPHA_MIN)\n",
      "/Applications/anaconda3/lib/python3.6/site-packages/sklearn/naive_bayes.py:472: UserWarning: alpha too small will result in numeric errors, setting alpha = 1.0e-10\n",
      "  'setting alpha = %.1e' % _ALPHA_MIN)\n",
      "/Applications/anaconda3/lib/python3.6/site-packages/sklearn/naive_bayes.py:472: UserWarning: alpha too small will result in numeric errors, setting alpha = 1.0e-10\n",
      "  'setting alpha = %.1e' % _ALPHA_MIN)\n"
     ]
    },
    {
     "name": "stdout",
     "output_type": "stream",
     "text": [
      "The f1 score for the k neighbors classifier is:0.43 and the optimal value for k is: 10\n",
      "\n",
      "The f1 score for the multinomial naive bayes classifier is:0.78 and the optimal value for alpha is: 0.05\n",
      "\n",
      "The f1 score for the logistic regression classifier is:0.69 and the optimal regularization strength C value: 0.52\n"
     ]
    }
   ],
   "source": [
    "def P3(train_features,dev_features,train_labels,dev_labels):\n",
    "### STUDENT START ###\n",
    "\n",
    "    #------------fit k nearest neighbors classifier, report f1 score and find the optimal value for k-----------#\n",
    "  \n",
    "    kn = KNeighborsClassifier()\n",
    "    kn.fit(train_features,train_labels)\n",
    "    kn_pred_vals = kn.predict(dev_features)\n",
    "\n",
    "    kn_f1 = round(metrics.f1_score(dev_labels, kn_pred_vals, average='weighted'),2)\n",
    "\n",
    "    #create a dict of n_neighbors key with list of k values to pass into param_grid argument of GridSearch\n",
    "    k_vals = {'n_neighbors': [i+1 for i in np.arange(10)]}\n",
    "    #pass in the K value sequence to grid search\n",
    "    grd_search_knn = GridSearchCV(estimator = kn, param_grid=k_vals)\n",
    "    #fit using train data\n",
    "    grd_search_knn.fit(train_features, train_labels)\n",
    "    \n",
    "    #-----------fit a Multinomial Naive Bayes model, report f1 score and find the optimal value for alpha-------#\n",
    "    \n",
    "    mnb = MultinomialNB()\n",
    "    mnb.fit(train_features, train_labels)\n",
    "    mnb_pred_val = mnb.predict(dev_features)\n",
    "    mnb_f1 = round(metrics.f1_score(dev_labels, mnb_pred_val, average='weighted'),2)\n",
    "    \n",
    "    #create a dict of alpha key with list of alpha float values to pass into param_grid argument of GridSearch\n",
    "    alphas = {'alpha': np.linspace(0.0, 1.0, num=20)}\n",
    "    #pass in the alpha value sequence to grid search\n",
    "    grd_search_mnb = GridSearchCV(estimator= mnb, param_grid=alphas)\n",
    "    #fit using train data\n",
    "    grd_search_mnb.fit(train_features, train_labels)\n",
    "\n",
    "     #--fit a logistic regression model, report f1 score and find the optimal value for regularization strength C--#\n",
    "    \n",
    "    lr = LogisticRegression()\n",
    "    lr.fit(train_features, train_labels)\n",
    "    lr_pred_val = lr.predict(dev_features)\n",
    "    lr_f1 = round(metrics.f1_score(dev_labels, lr_pred_val, average='weighted'),2)\n",
    "    \n",
    "    #create a dict of key C with list of c values to pass into param_grid argument of GridSearch\n",
    "    c_val = {'C':np.linspace(0.1, 2.0, num=10)}\n",
    "    #pass in the alpha value sequence to grid search\n",
    "    grd_search_lr = GridSearchCV(estimator = lr, param_grid=c_val)\n",
    "    #fit using train data\n",
    "    grd_search_lr.fit(train_features, train_labels)\n",
    "    \n",
    "    \n",
    "    print(\"The f1 score for the k neighbors classifier is:\"+ str(kn_f1) + \n",
    "          \" and the optimal value for k is: \" + str(grd_search_knn.best_estimator_.n_neighbors))\n",
    "    print(\"\")\n",
    "    print(\"The f1 score for the multinomial naive bayes classifier is:\"+ str(mnb_f1) + \n",
    "          \" and the optimal value for alpha is: \" + str(round(grd_search_mnb.best_estimator_.alpha,2)))\n",
    "    print(\"\")\n",
    "    print(\"The f1 score for the logistic regression classifier is:\"+ str(lr_f1) +\n",
    "          \" and the optimal regularization strength C value: \" + str(round(grd_search_lr.best_estimator_.C,2)))\n",
    "\n",
    "vectorizer = CountVectorizer()\n",
    "train_features = vectorizer.fit_transform(train_data)\n",
    "#transform dev data using the same normalizing parameters that were fitted to the train data\n",
    "dev_features = vectorizer.transform(dev_data)\n",
    "\n",
    "### STUDENT END ###\n",
    "\n",
    "P3(train_features,dev_features,train_labels,dev_labels)"
   ]
  },
  {
   "cell_type": "markdown",
   "metadata": {},
   "source": [
    "a. Why doesn't nearest neighbors work well for this problem?\n",
    "\n",
    "This is a very high dimensional data set (relative to obsersvations) we're trying to model against. Nearest neighbors is trying to find the shortest token-frequency distances between the train and test data to predict the document's topic. There are high frequencies of tokens (words) shared across all topics which are not as informative and may be modeled better with larger k values. But there are also many low-frequency words unique to each topic that are very informative and better modeled with lower k values. The knn model needs to learn which features are more important than others. But distance isn't an ideal metric for doing so given the two contrasting behaviors mentioned above.\n",
    "\n",
    "b. Any ideas why logistic regression doesn't work as well as Naive Bayes?\n",
    "\n",
    "Logistic regression is a discriminative model, meaning it learns the conditional probability distribution of the topic given the feature. Naive Bayes is a generative model, meaning it learns the joint probability distribution of the topic and a feature. Because of the relatively narrow sample size of each feature, the discriminative model won't generalize as well as the generative model. Although the logistic regression model will have lower bias, it has a higher variance than the naive bayes model in this case and so it doesn't generalize as well.\n",
    "\n",
    "\n",
    "c. Logistic regression estimates a weight vector for each class, which you can access with the coef_ attribute. Output the sum of the squared weight values for each class for each setting of the C parameter. Briefly explain the relationship between the sum and the value of C.\n",
    "\n"
   ]
  },
  {
   "cell_type": "code",
   "execution_count": 28,
   "metadata": {},
   "outputs": [
    {
     "name": "stdout",
     "output_type": "stream",
     "text": [
      "For C Value:  0.01\n",
      "{0: 2.5414876825471953, 1: 2.9397093683556812, 2: 2.8624691016880601, 3: 2.2500291895155713}\n",
      "For C Value:  0.564444444444\n",
      "{0: 112.16515319638657, 1: 90.269631484832516, 2: 107.83947269944808, 3: 97.380835945465364}\n",
      "For C Value:  1.11888888889\n",
      "{0: 179.87103196969659, 1: 140.33911874436376, 2: 169.59641963331831, 3: 157.02180019126706}\n",
      "For C Value:  1.67333333333\n",
      "{0: 231.60778731124751, 1: 178.60407524338748, 2: 216.5029667336247, 3: 203.27460486756354}\n",
      "For C Value:  2.22777777778\n",
      "{0: 274.2936191911391, 1: 210.34549183290713, 2: 254.97548404916529, 3: 241.62726240141768}\n",
      "For C Value:  2.78222222222\n",
      "{0: 310.80075998629957, 1: 237.9763947240875, 2: 288.14226820668682, 3: 275.04662314969426}\n",
      "For C Value:  3.33666666667\n",
      "{0: 343.24384236160046, 1: 262.24050654473513, 2: 317.36606161136632, 3: 304.46485581167514}\n",
      "For C Value:  3.89111111111\n",
      "{0: 372.14777612618866, 1: 284.08257074640431, 2: 343.53519126551959, 3: 331.05175532099912}\n",
      "For C Value:  4.44555555556\n",
      "{0: 399.22451695248697, 1: 303.37820525496534, 2: 367.7971308857982, 3: 355.29549670084441}\n",
      "For C Value:  5.0\n",
      "{0: 422.80983745480052, 1: 322.08227176813557, 2: 389.63196453714863, 3: 378.15138470901923}\n"
     ]
    }
   ],
   "source": [
    "vectorizer = CountVectorizer()\n",
    "train_features = vectorizer.fit_transform(train_data)\n",
    "dev_features = vectorizer.transform(dev_data)\n",
    "c_vals = np.linspace(.01, 5, num=10)\n",
    "for c in c_vals:\n",
    "    lr = LogisticRegression(C=c)\n",
    "    lr.fit(train_features, train_labels)\n",
    "    d = {}\n",
    "    coef_len = len(lr.coef_)\n",
    "    for l in np.arange(coef_len):\n",
    "        d[l] = (sum(lr.coef_[l]**2))\n",
    "    \n",
    "    print(\"For C Value: \", str(c))\n",
    "    print(d)\n"
   ]
  },
  {
   "cell_type": "markdown",
   "metadata": {},
   "source": [
    "With increasing values of C, we see increasing sums of squared coef weights that demonstrate dimininshing marginal values. We know that lower values of C place greater regularization on the data and so the weight values will be lower (in either direction +/-) compared to higher higher values of C. However, at some point there is diminishing value that C provides in weighting the coefficients.\n",
    "\n",
    "\n",
    "[4 pts]"
   ]
  },
  {
   "cell_type": "markdown",
   "metadata": {},
   "source": [
    "ANSWER:"
   ]
  },
  {
   "cell_type": "markdown",
   "metadata": {},
   "source": [
    "(4) Train a logistic regression model. Find the 5 features with the largest weights for each label -- 20 features in total. Create a table with 20 rows and 4 columns that shows the weight for each of these features for each of the labels. Create the table again with bigram features. Any surprising features in this table?\n",
    "\n",
    "[5 pts]"
   ]
  },
  {
   "cell_type": "code",
   "execution_count": 62,
   "metadata": {
    "collapsed": true
   },
   "outputs": [],
   "source": [
    "#def P4():\n",
    "### STUDENT START ###\n",
    "vectorizer = CountVectorizer()\n",
    "train_features = vectorizer.fit_transform(train_data)\n",
    "#transform dev data using the same normalizing parameters that were fitted to the train data\n",
    "dev_features = vectorizer.transform(dev_data)\n",
    "\n",
    "lr = LogisticRegression()\n",
    "lr.fit(train_features, train_labels)\n",
    "lr_pred_val = lr.predict(dev_features)\n",
    "\n",
    "#note: will probably want to set the C param to what i found above and then remodel\n",
    "\n",
    "d = {}\n",
    "for i in np.arange(4):\n",
    "    #return top 5 weighted indices from the logistic regression model; \n",
    "        #note that argsort() sorts in ascending order so we have to reverse the order\n",
    "    indx = lr.coef_[i].argsort()[::-1][0:5]\n",
    "    #map top weighted indices to features\n",
    "    top5_names = list(np.array(vectorizer.get_feature_names())[indx])\n",
    "    #add label name and its corresponding top 5 weighted features to the empty dictionary\n",
    "    d[newsgroups_train.target_names[i]] = top5_names\n",
    "\n",
    "\n",
    "\n",
    "### STUDENT END ###\n",
    "#P4()"
   ]
  },
  {
   "cell_type": "code",
   "execution_count": 54,
   "metadata": {},
   "outputs": [
    {
     "data": {
      "text/html": [
       "&lt;Table length=20&gt;\n",
       "<table id=\"table111986080848\" class=\"table-striped table-bordered table-condensed\">\n",
       "<thead><tr><th>alt.atheism</th><th>comp.graphics</th><th>sci.space</th><th>talk.religion.misc</th><th>feature</th></tr></thead>\n",
       "<thead><tr><th>float64</th><th>float64</th><th>float64</th><th>float64</th><th>str10</th></tr></thead>\n",
       "<tr><td>1.12492289358</td><td>-0.398296674948</td><td>-0.420381461148</td><td>-0.395960167824</td><td>deletion</td></tr>\n",
       "<tr><td>1.02802893493</td><td>-0.0967463745044</td><td>-0.320550718097</td><td>-0.834956004091</td><td>atheists</td></tr>\n",
       "<tr><td>0.990357442893</td><td>-0.220786091996</td><td>-0.340716423201</td><td>-0.463313094474</td><td>bobby</td></tr>\n",
       "<tr><td>0.954137229087</td><td>-0.616985280224</td><td>-0.792408212879</td><td>-0.0643588630597</td><td>religion</td></tr>\n",
       "<tr><td>0.93868381419</td><td>-0.4088810967</td><td>-0.449328593138</td><td>-0.43463725664</td><td>atheism</td></tr>\n",
       "<tr><td>-0.758842244046</td><td>1.93686185452</td><td>-1.33597467456</td><td>-0.762515680099</td><td>graphics</td></tr>\n",
       "<tr><td>-0.581838287489</td><td>1.3455954472</td><td>-0.825897082789</td><td>-0.469693526311</td><td>image</td></tr>\n",
       "<tr><td>-0.334750853678</td><td>1.2659889556</td><td>-0.806438865997</td><td>-0.626378979672</td><td>file</td></tr>\n",
       "<tr><td>-0.359269578304</td><td>1.12502312485</td><td>-0.702097167267</td><td>-0.378589831125</td><td>3d</td></tr>\n",
       "<tr><td>0.142728789745</td><td>0.977668853176</td><td>-0.681910693991</td><td>-0.486694989768</td><td>computer</td></tr>\n",
       "<tr><td>-1.25996770116</td><td>-1.31676517712</td><td>2.16220901806</td><td>-1.17079278874</td><td>space</td></tr>\n",
       "<tr><td>-0.413839112089</td><td>-0.671700115965</td><td>1.22480906</td><td>-0.62899412664</td><td>orbit</td></tr>\n",
       "<tr><td>-0.571764568272</td><td>-0.480323279288</td><td>1.01145072867</td><td>-0.46758571522</td><td>nasa</td></tr>\n",
       "<tr><td>-0.469058781714</td><td>-0.465160760258</td><td>0.93631964473</td><td>-0.332836771393</td><td>launch</td></tr>\n",
       "<tr><td>-0.355284270462</td><td>-0.39360591085</td><td>0.919911039094</td><td>-0.380694553268</td><td>spacecraft</td></tr>\n",
       "<tr><td>-0.740075057181</td><td>-0.409461918542</td><td>-0.52508292896</td><td>1.14748029728</td><td>christians</td></tr>\n",
       "<tr><td>-0.608059318935</td><td>-0.418329998385</td><td>-0.270449986893</td><td>1.11707685911</td><td>christian</td></tr>\n",
       "<tr><td>-0.533512298573</td><td>-0.106608685929</td><td>-0.316115812116</td><td>1.05462450744</td><td>blood</td></tr>\n",
       "<tr><td>-0.308765581916</td><td>-0.273501301309</td><td>-0.448095079447</td><td>0.912806738967</td><td>fbi</td></tr>\n",
       "<tr><td>-0.793647918875</td><td>-0.0797353170521</td><td>-0.149104018943</td><td>0.904804815892</td><td>order</td></tr>\n",
       "</table>"
      ],
      "text/plain": [
       "<Table length=20>\n",
       "  alt.atheism    comp.graphics      sci.space    talk.religion.misc  feature  \n",
       "    float64         float64          float64          float64         str10   \n",
       "--------------- ---------------- --------------- ------------------ ----------\n",
       "  1.12492289358  -0.398296674948 -0.420381461148    -0.395960167824   deletion\n",
       "  1.02802893493 -0.0967463745044 -0.320550718097    -0.834956004091   atheists\n",
       " 0.990357442893  -0.220786091996 -0.340716423201    -0.463313094474      bobby\n",
       " 0.954137229087  -0.616985280224 -0.792408212879   -0.0643588630597   religion\n",
       "  0.93868381419    -0.4088810967 -0.449328593138     -0.43463725664    atheism\n",
       "-0.758842244046    1.93686185452  -1.33597467456    -0.762515680099   graphics\n",
       "-0.581838287489     1.3455954472 -0.825897082789    -0.469693526311      image\n",
       "-0.334750853678     1.2659889556 -0.806438865997    -0.626378979672       file\n",
       "-0.359269578304    1.12502312485 -0.702097167267    -0.378589831125         3d\n",
       " 0.142728789745   0.977668853176 -0.681910693991    -0.486694989768   computer\n",
       " -1.25996770116   -1.31676517712   2.16220901806     -1.17079278874      space\n",
       "-0.413839112089  -0.671700115965      1.22480906     -0.62899412664      orbit\n",
       "-0.571764568272  -0.480323279288   1.01145072867     -0.46758571522       nasa\n",
       "-0.469058781714  -0.465160760258   0.93631964473    -0.332836771393     launch\n",
       "-0.355284270462   -0.39360591085  0.919911039094    -0.380694553268 spacecraft\n",
       "-0.740075057181  -0.409461918542  -0.52508292896      1.14748029728 christians\n",
       "-0.608059318935  -0.418329998385 -0.270449986893      1.11707685911  christian\n",
       "-0.533512298573  -0.106608685929 -0.316115812116      1.05462450744      blood\n",
       "-0.308765581916  -0.273501301309 -0.448095079447     0.912806738967        fbi\n",
       "-0.793647918875 -0.0797353170521 -0.149104018943     0.904804815892      order"
      ]
     },
     "execution_count": 54,
     "metadata": {},
     "output_type": "execute_result"
    }
   ],
   "source": [
    "# Create a table with 20 rows and 4 columns that shows the weight for each of these features for each of the labels.\n",
    "\n",
    "from astropy.table import Table, Column\n",
    "\n",
    "feature_names = [k for i,j in d.items() for k in j ]\n",
    "\n",
    "wght_indx = [vectorizer.get_feature_names().index(f) for f in feature_names]\n",
    "\n",
    "dd = {newsgroups_train.target_names[i]:list(lr.coef_[i][wght_indx]) for i in np.arange(4)}\n",
    "dd['feature'] = feature_names\n",
    "Table(dd)\n",
    "\n",
    "\n"
   ]
  },
  {
   "cell_type": "code",
   "execution_count": 56,
   "metadata": {},
   "outputs": [
    {
     "data": {
      "text/html": [
       "&lt;Table length=20&gt;\n",
       "<table id=\"table112091956392\" class=\"table-striped table-bordered table-condensed\">\n",
       "<thead><tr><th>alt.atheism</th><th>comp.graphics</th><th>sci.space</th><th>talk.religion.misc</th><th>feature</th></tr></thead>\n",
       "<thead><tr><th>float64</th><th>float64</th><th>float64</th><th>float64</th><th>str19</th></tr></thead>\n",
       "<tr><td>0.771668663252</td><td>-0.257725613404</td><td>-0.352085852293</td><td>-0.200642148681</td><td>claim that</td></tr>\n",
       "<tr><td>0.677629111098</td><td>-0.192939095652</td><td>-0.197960655524</td><td>-0.302005088608</td><td>was just</td></tr>\n",
       "<tr><td>0.649140917818</td><td>-0.882369040878</td><td>-0.821927306848</td><td>0.601474396617</td><td>cheers kent</td></tr>\n",
       "<tr><td>0.633800266351</td><td>-0.238288678241</td><td>-0.195135452436</td><td>-0.170545310431</td><td>look up</td></tr>\n",
       "<tr><td>0.569415623156</td><td>-0.318518057541</td><td>-0.577068258934</td><td>0.000734170898072</td><td>you are</td></tr>\n",
       "<tr><td>-0.755597451304</td><td>1.31961207634</td><td>-0.613633517463</td><td>-0.699886403154</td><td>looking for</td></tr>\n",
       "<tr><td>-0.379821509928</td><td>1.03721964567</td><td>-0.470812728111</td><td>-0.396644615207</td><td>comp graphics</td></tr>\n",
       "<tr><td>-0.544993631572</td><td>0.972280892905</td><td>-0.531005728829</td><td>-0.507318638494</td><td>in advance</td></tr>\n",
       "<tr><td>-0.428484388079</td><td>0.912644968218</td><td>-0.568742530584</td><td>-0.341453426507</td><td>is there</td></tr>\n",
       "<tr><td>-0.324286071543</td><td>0.896345502354</td><td>-0.577906591516</td><td>-0.332930436327</td><td>out there</td></tr>\n",
       "<tr><td>-0.314110488405</td><td>-0.645871241676</td><td>1.0301329335</td><td>-0.324496173087</td><td>the space</td></tr>\n",
       "<tr><td>-0.404812479385</td><td>-0.576349775419</td><td>0.951746778598</td><td>-0.240593963456</td><td>the moon</td></tr>\n",
       "<tr><td>-0.317713543326</td><td>-0.388518776114</td><td>0.738851038431</td><td>-0.274693982069</td><td>sci space</td></tr>\n",
       "<tr><td>-0.242296148836</td><td>-0.399673980621</td><td>0.688121933891</td><td>-0.25694970604</td><td>and such</td></tr>\n",
       "<tr><td>-0.157722309387</td><td>-0.226528131709</td><td>0.675540246634</td><td>-0.163746202488</td><td>sherzer methodology</td></tr>\n",
       "<tr><td>-0.227885888904</td><td>-0.2531378165</td><td>-0.211367183845</td><td>0.74566508269</td><td>ignorance is</td></tr>\n",
       "<tr><td>-0.149087984827</td><td>-0.216357451171</td><td>-0.1906780971</td><td>0.706579168764</td><td>such lunacy</td></tr>\n",
       "<tr><td>-0.132644589775</td><td>-0.211857595847</td><td>-0.200887611337</td><td>0.701488115072</td><td>compuserve com</td></tr>\n",
       "<tr><td>-0.166694494374</td><td>-0.261241986466</td><td>-0.359249236584</td><td>0.653811369361</td><td>the fbi</td></tr>\n",
       "<tr><td>-0.176421389476</td><td>-0.224912407958</td><td>-0.195185073874</td><td>0.647993761484</td><td>is strength</td></tr>\n",
       "</table>"
      ],
      "text/plain": [
       "<Table length=20>\n",
       "  alt.atheism    comp.graphics  ... talk.religion.misc       feature      \n",
       "    float64         float64     ...      float64              str19       \n",
       "--------------- --------------- ... ------------------ -------------------\n",
       " 0.771668663252 -0.257725613404 ...    -0.200642148681          claim that\n",
       " 0.677629111098 -0.192939095652 ...    -0.302005088608            was just\n",
       " 0.649140917818 -0.882369040878 ...     0.601474396617         cheers kent\n",
       " 0.633800266351 -0.238288678241 ...    -0.170545310431             look up\n",
       " 0.569415623156 -0.318518057541 ...  0.000734170898072             you are\n",
       "-0.755597451304   1.31961207634 ...    -0.699886403154         looking for\n",
       "-0.379821509928   1.03721964567 ...    -0.396644615207       comp graphics\n",
       "-0.544993631572  0.972280892905 ...    -0.507318638494          in advance\n",
       "-0.428484388079  0.912644968218 ...    -0.341453426507            is there\n",
       "-0.324286071543  0.896345502354 ...    -0.332930436327           out there\n",
       "-0.314110488405 -0.645871241676 ...    -0.324496173087           the space\n",
       "-0.404812479385 -0.576349775419 ...    -0.240593963456            the moon\n",
       "-0.317713543326 -0.388518776114 ...    -0.274693982069           sci space\n",
       "-0.242296148836 -0.399673980621 ...     -0.25694970604            and such\n",
       "-0.157722309387 -0.226528131709 ...    -0.163746202488 sherzer methodology\n",
       "-0.227885888904   -0.2531378165 ...      0.74566508269        ignorance is\n",
       "-0.149087984827 -0.216357451171 ...     0.706579168764         such lunacy\n",
       "-0.132644589775 -0.211857595847 ...     0.701488115072      compuserve com\n",
       "-0.166694494374 -0.261241986466 ...     0.653811369361             the fbi\n",
       "-0.176421389476 -0.224912407958 ...     0.647993761484         is strength"
      ]
     },
     "execution_count": 56,
     "metadata": {},
     "output_type": "execute_result"
    }
   ],
   "source": [
    "# Create the table again with bigram features. Any surprising features in this table?\n",
    "\n",
    "#establish bigram features from the corpus\n",
    "bigram_vect = CountVectorizer(ngram_range=(2, 2))\n",
    "bigram_train_features = bigram_vect.fit_transform(train_data)\n",
    "bigram_dev_features = bigram_vect.transform(dev_data)\n",
    "\n",
    "lr = LogisticRegression()\n",
    "lr.fit(bigram_train_features, train_labels)\n",
    "lr_pred_val = lr.predict(bigram_dev_features)\n",
    "\n",
    "d = {}\n",
    "for i in np.arange(4):\n",
    "    #return top 5 weighted indices from the logistic regression model; \n",
    "        #note that argsort() sorts in ascending order so we have to reverse the order\n",
    "    indx = lr.coef_[i].argsort()[::-1][0:5]\n",
    "    #map top weighted indices to features\n",
    "    top5_names = list(np.array(bigram_vect.get_feature_names())[indx])\n",
    "    #add label name and its corresponding top 5 weighted features to the empty dictionary\n",
    "    d[newsgroups_train.target_names[i]] = top5_names\n",
    "\n",
    "\n",
    "feature_names = [k for i,j in d.items() for k in j ]\n",
    "\n",
    "wght_indx = [bigram_vect.get_feature_names().index(f) for f in feature_names]\n",
    "\n",
    "dd = {newsgroups_train.target_names[i]:list(lr.coef_[i][wght_indx]) for i in np.arange(4)}\n",
    "dd['feature'] = feature_names\n",
    "Table(dd)"
   ]
  },
  {
   "cell_type": "markdown",
   "metadata": {},
   "source": [
    "ANSWER:"
   ]
  },
  {
   "cell_type": "markdown",
   "metadata": {},
   "source": [
    "(5) Try to improve the logistic regression classifier by passing a custom preprocessor to CountVectorizer. The preprocessing function runs on the raw text, before it is split into words by the tokenizer. Your preprocessor should try to normalize the input in various ways to improve generalization. For example, try lowercasing everything, replacing sequences of numbers with a single token, removing various other non-letter characters, and shortening long words. If you're not already familiar with regular expressions for manipulating strings, see https://docs.python.org/2/library/re.html, and re.sub() in particular. With your new preprocessor, how much did you reduce the size of the dictionary?\n",
    "\n",
    "For reference, I was able to improve dev F1 by 2 points.\n",
    "\n",
    "[4 pts]"
   ]
  },
  {
   "cell_type": "code",
   "execution_count": 71,
   "metadata": {},
   "outputs": [
    {
     "name": "stdout",
     "output_type": "stream",
     "text": [
      "The size of the dictionary is 19921 which is 6958 fewer features than the unprocessed vocabulary\n",
      "\n",
      "The f1 score using a preporocessor is 0.71 which is 1 point higher than the original\n"
     ]
    }
   ],
   "source": [
    "def empty_preprocessor(s):\n",
    "    return s\n",
    "\n",
    "def better_preprocessor(s):\n",
    "### STUDENT START ###\n",
    "    # remove digits,special characters and punctuation. Then convert to lower case\n",
    "    s_adj = re.sub('[^a-z]+', ' ', s.lower())\n",
    "    # remove words likely to be present participles, adverbs and past tense\n",
    "    return re.sub(r'\\w+ing|ly|ed?','',s_adj)\n",
    "\n",
    "### STUDENT END ###\n",
    "\n",
    "#def P5():\n",
    "### STUDENT START ###\n",
    "\n",
    "process_vect = CountVectorizer(preprocessor=better_preprocessor)\n",
    "process_train_features = process_vect.fit_transform(train_data)\n",
    "process_dev_features = process_vect.transform(dev_data)\n",
    "\n",
    "process_lr = LogisticRegression()\n",
    "process_lr.fit(process_train_features, train_labels)\n",
    "process_lr_pred_val = process_lr.predict(process_dev_features)\n",
    "\n",
    "vocab_diff = train_features.shape[1] - process_train_features.shape[1]\n",
    "\n",
    "process_lr_f1 = round(metrics.f1_score(dev_labels, process_lr_pred_val, average='weighted'),2)\n",
    "\n",
    "print(\"The size of the dictionary is \" + \n",
    "      str(process_train_features.shape[1]) + \" which is \" + \n",
    "           str(vocab_diff) + \" fewer features than the unprocessed vocabulary\")\n",
    "print(\"\")\n",
    "\n",
    "print(\"The f1 score using a preporocessor is \" + str(process_lr_f1) +\n",
    "      ' which is 1 point higher than the original')\n",
    "\n",
    "### STUDENT END ###\n",
    "#P5()"
   ]
  },
  {
   "cell_type": "markdown",
   "metadata": {},
   "source": [
    "(6) The idea of regularization is to avoid learning very large weights (which are likely to fit the training data, but not generalize well) by adding a penalty to the total size of the learned weights. That is, logistic regression seeks the set of weights that minimizes errors in the training data AND has a small size. The default regularization, L2, computes this size as the sum of the squared weights (see P3, above). L1 regularization computes this size as the sum of the absolute values of the weights. The result is that whereas L2 regularization makes all the weights relatively small, L1 regularization drives lots of the weights to 0, effectively removing unimportant features.\n",
    "\n",
    "Train a logistic regression model using a \"l1\" penalty. Output the number of learned weights that are not equal to zero. How does this compare to the number of non-zero weights you get with \"l2\"?\n"
   ]
  },
  {
   "cell_type": "code",
   "execution_count": 8,
   "metadata": {},
   "outputs": [
    {
     "name": "stdout",
     "output_type": "stream",
     "text": [
      "There are 77816 fewer non-zero weights using Lasso regression (l1) than Ridge regression (l2) which is a -0.98 percent difference\n"
     ]
    }
   ],
   "source": [
    "#def P6():\n",
    "    # Keep this random seed here to make comparison easier.\n",
    "np.random.seed(0)\n",
    "\n",
    "### STUDENT START ###\n",
    "lr_l1 = LogisticRegression(penalty= 'l1', tol=.01)\n",
    "lr_l1.fit(process_train_features, train_labels)\n",
    "lr_l1_pred_val = lr_l1.predict(process_dev_features)\n",
    "\n",
    "lr_l2 = LogisticRegression(tol=.01)\n",
    "lr_l2.fit(process_train_features, train_labels)\n",
    "lr_l2_pred_val = lr_l1.predict(process_dev_features)\n",
    "\n",
    "nz_diff = np.count_nonzero(lr_l2.coef_) - np.count_nonzero(lr_l1.coef_)\n",
    "perc_nz_diff = round(-1*nz_diff/np.count_nonzero(lr_l2.coef_),2)\n",
    "\n",
    "\n",
    "print(\"There are \" + str(nz_diff) + \n",
    "      \" fewer non-zero weights using Lasso regression (l1) than Ridge regression (l2) which is a \" +\n",
    "     str(perc_nz_diff) + \" percent difference\")\n",
    "\n"
   ]
  },
  {
   "cell_type": "markdown",
   "metadata": {},
   "source": [
    "Now, reduce the size of the vocabulary by keeping only those features that have at least one non-zero weight and retrain a model using \"l2\".\n",
    "\n",
    "Make a plot showing accuracy of the re-trained model vs. the vocabulary size you get when pruning unused features by adjusting the C parameter.\n",
    "\n",
    "Note: The gradient descent code that trains the logistic regression model sometimes has trouble converging with extreme settings of the C parameter. Relax the convergence criteria by setting tol=.01 (the default is .0001).\n",
    "[4 pts]"
   ]
  },
  {
   "cell_type": "code",
   "execution_count": 112,
   "metadata": {},
   "outputs": [
    {
     "data": {
      "image/png": "[encoded data removed]",
      "text/plain": [
       "<matplotlib.figure.Figure at 0x1a147a29b0>"
      ]
     },
     "metadata": {},
     "output_type": "display_data"
    }
   ],
   "source": [
    "def P6(c_vals,train_features):\n",
    "    # Keep this random seed here to make comparison easier.\n",
    "    \n",
    "    np.random.seed(0)\n",
    "    #build c value and f1 score list\n",
    "    vocab_sizes = []\n",
    "    f1_scores = []\n",
    "    \n",
    "    for c in c_vals:\n",
    "\n",
    "        #fit a logistic regression model per the c value\n",
    "        lr = LogisticRegression(penalty= 'l1',C = c, tol=.01)\n",
    "        lr.fit(train_features, train_labels)\n",
    "\n",
    "        #extract indices of all coefficients with a non-zero weighting\n",
    "        nzw_indx = np.nonzero(lr.coef_)[1]\n",
    "\n",
    "        #iterate through the values (indices) of the vocabulary (dictionary) and pass the token \n",
    "        #with a corresponding index in the non-zero coefficient index to a list to generate the \n",
    "        #new vocabulary, then remove duplicates from the new vocabulary \n",
    "        #to pass into the CountVectorizer object\n",
    "\n",
    "        nzw_vocab = list(set([j for j,k in vect.vocabulary_.items() if k in nzw_indx]))\n",
    "\n",
    "        #create a new instance of CountVectorizer and pass in the non-zero-coefficient, reduced\n",
    "        #vocabulary\n",
    "        nzw_vect = CountVectorizer(vocabulary = nzw_vocab)\n",
    "        nzw_train_features = nzw_vect.fit_transform(train_data)\n",
    "        nzw_dev_features = nzw_vect.transform(dev_data)\n",
    "\n",
    "        #retrain the non-zero-coefficient adjusted data on a new logit model with L2 regularization\n",
    "        lr_retrain = LogisticRegression(C=c,tol=.01)\n",
    "        lr_retrain.fit(nzw_train_features, train_labels)\n",
    "        lr_retrain_pred_val = lr_retrain.predict(nzw_dev_features)\n",
    "\n",
    "        f1 = round(metrics.f1_score(dev_labels, lr_retrain_pred_val, average='weighted'),2)\n",
    "        vocab_size = len(nzw_vocab)\n",
    "        vocab_sizes.append(vocab_size)\n",
    "        f1_scores.append(f1)\n",
    "\n",
    "    return vocab_sizes,f1_scores\n",
    "\n",
    "\n",
    "#set train_features and c values to pass into P6 function\n",
    "vect = CountVectorizer()\n",
    "train_features = vect.fit_transform(train_data)     \n",
    "c_vals = np.linspace(.001, 10, num=10)\n",
    "\n",
    "x,y = P6(c_vals,train_features)\n",
    "\n",
    "#plot the f1 scores against the vocabulary sizes\n",
    "plt.plot(x, y) \n",
    "plt.ylabel('F1 Score') \n",
    "plt.xlabel('Vocabulary Size') \n",
    "plt.show()\n"
   ]
  },
  {
   "cell_type": "markdown",
   "metadata": {},
   "source": [
    "(7) Use the TfidfVectorizer -- how is this different from the CountVectorizer? Train a logistic regression model with C=100.\n",
    "\n",
    "The TfidfVectorizer (term-frequency times inverse document-frequency). Tfidf scales down the weights of tokens that have high frequencies as those terms tend to be less informative. CountVectorizer doesn't do the weight adjustments on high frequency terms; instead it computes raw frequencies of occurrence of a token in a given document.\n",
    "\n",
    "Make predictions on the dev data and show the top 3 documents where the ratio R is largest, where R is:\n",
    "\n",
    "maximum predicted probability / predicted probability of the correct label\n",
    "\n",
    "What kinds of mistakes is the model making? Suggest a way to address one particular issue that you see.\n",
    "\n",
    "[4 pts]"
   ]
  },
  {
   "cell_type": "code",
   "execution_count": 47,
   "metadata": {},
   "outputs": [
    {
     "name": "stdout",
     "output_type": "stream",
     "text": [
      "True Label: talk.religion.misc \n",
      "\n",
      "Predicted Label: comp.graphics \n",
      "\n",
      "I am pleased to announce that a *revised version* of _The Easy-to-Read Book\n",
      "of Mormon_ (former title: _Mormon's Book_) by Lynn Matthews Anderson is now\n",
      "available through anonymous ftp (see information below). In addition to the\n",
      "change in title, the revised ETR BOM has been shortened by several pages\n",
      "(eliminating many extraneous \"that's\" and \"of's\"), and many (minor) errors\n",
      "have been corrected. This release includes a simplified Joseph Smith Story,\n",
      "testimonies of the three and eight witnesses, and a \"Words-to-Know\"\n",
      "glossary.\n",
      "\n",
      "As with the previous announcement, readers are reminded that this is a\n",
      "not-for-profit endeavor. This is a copyrighted work, but people are welcome\n",
      "to make *verbatim* copies for personal use. People can recuperate the\n",
      "actual costs of printing (paper, copy center charges), but may not charge\n",
      "anything for their time in making copies, or in any way realize a profit\n",
      "from the use of this book. See the permissions notice in the book itself\n",
      "for the precise terms.\n",
      "\n",
      "Negotiations are currently underway with a Mormon publisher vis-a-vis the\n",
      "printing and distribution of bound books. (Sorry, I'm out of the wire-bound\n",
      "\"first editions.\") I will make another announcement about the availability\n",
      "of printed copies once everything has been worked out.\n",
      "\n",
      "FTP information: connect via anonymous ftp to carnot.itc.cmu.edu, then \"cd\n",
      "pub\" (you won't see anything at all until you do).\n",
      "\n",
      "\"The Easy-to-Read Book of Mormon\" is currently available in postscript and\n",
      "RTF (rich text format). (ASCII, LaTeX, and other versions can be made\n",
      "available; contact dba@andrew.cmu.edu for details.) You should be able to\n",
      "print the postscript file on any postscript printer (such as an Apple\n",
      "Laserwriter); let dba know if you have any difficulties. (The postscript in\n",
      "the last release had problems on some printers; this time it should work\n",
      "better.) RTF is a standard document interchange format that can be read in\n",
      "by a number of word processors, including Microsoft Word for both the\n",
      "Macintosh and Windows. If you don't have a postscript printer, you may be\n",
      "able to use the RTF file to print out a copy of the book.\n",
      "\n",
      "-r--r--r--  1 dba                   1984742 Apr 27 13:12 etrbom.ps\n",
      "-r--r--r--  1 dba                   1209071 Apr 27 13:13 etrbom.rtf\n",
      "\n",
      "For more information about how this project came about, please refer to my\n",
      "article in the current issue of _Sunstone_, entitled \"Delighting in\n",
      "Plainness: Issues Surrounding a Simple Modern English Book of Mormon.\"\n",
      "\n",
      "Send all inquiries and comments to:\n",
      "\n",
      "    Lynn Matthews Anderson\n",
      "    5806 Hampton Street\n",
      "    Pittsburgh, PA 15206 \n",
      "\n",
      "True Label: alt.atheism \n",
      "\n",
      "Predicted Label: talk.religion.misc \n",
      "\n",
      "\n",
      "The 24 children were, of course, killed by a lone gunman in a second story\n",
      "window, who fired eight bullets in the space of two seconds...\n",
      " \n",
      "\n",
      "True Label: talk.religion.misc \n",
      "\n",
      "Predicted Label: comp.graphics \n",
      "\n",
      "Can anyone provide me a ftp site where I can obtain a online version\n",
      "of the Book of Mormon. Please email the internet address if possible. \n",
      "\n"
     ]
    }
   ],
   "source": [
    "#def P7():\n",
    "    ### STUDENT START ###\n",
    "    \n",
    "#-----Train a logistic regression model with C=100 Using the TfidfVectorizer---------#\n",
    "TD_vectorizer = TfidfVectorizer()\n",
    "TD_trainFeatures = TD_vectorizer.fit_transform(train_data)\n",
    "TD_devFeatures = TD_vectorizer.transform(dev_data)\n",
    "\n",
    "TD_lr = LogisticRegression(tol=.01, C=100)\n",
    "TD_lrFit = TD_lr.fit(TD_trainFeatures, train_labels)\n",
    "TD_lrPredict = TD_lrFit.predict(TD_devFeatures)\n",
    "\n",
    "TD_f1 = metrics.f1_score(dev_labels, TD_lrPredict, average='weighted')\n",
    "\n",
    "#----------------Show the top 3 documents where the ratio R is largest-------------------------#\n",
    "#----R = maximum predicted probability / predicted probability of the correct label-----------#\n",
    "probs = TD_lrFit.predict_proba(TD_devFeatures)\n",
    "\n",
    "max_probs = []\n",
    "correct_label_probs = []\n",
    "\n",
    "#iterate through each document and throw the classes' max predicted prob into a list\n",
    "#simulatenously index the predicted probability of the correct label\n",
    "for p in np.arange(len(probs)):\n",
    "    max_probs.append(max(probs[p]))\n",
    "    correct_label_probs.append(probs[p][dev_labels[p]])\n",
    "\n",
    "R_ratios = np.array(max_probs)/np.array(correct_label_probs)\n",
    "top3_Rratio = R_ratios.argsort()[::-1][0:3]\n",
    "top3_Rratio\n",
    "\n",
    "#print the documents with the top 3 R ratios\n",
    "for r in top3_Rratio:\n",
    "    print(\"True Label:\", str(newsgroups_test.target_names[dev_labels[r]]),\"\\n\")\n",
    "    print(\"Predicted Label:\", str(newsgroups_test.target_names[TD_lrPredict[r]]),\"\\n\")\n",
    "    print(dev_data[r],\"\\n\")\n",
    "    ### STUDENT END ###\n",
    "#P7()"
   ]
  },
  {
   "cell_type": "markdown",
   "metadata": {},
   "source": [
    "ANSWER:\n",
    "\n",
    "The mistake the model is making is it tends to classify religious topics that are categorized as computer graphics. We see that the religous topics in these cases all contain ftp, email or online which is likely weighted heavier for computer graphics topics. To overcome this we could rule out features that have both high accuracy and high false positives from the training set."
   ]
  },
  {
   "cell_type": "markdown",
   "metadata": {},
   "source": [
    "(8) EXTRA CREDIT\n",
    "\n",
    "Try implementing one of your ideas based on your error analysis. Use logistic regression as your underlying model.\n",
    "\n",
    "- [1 pt] for a reasonable attempt\n",
    "- [2 pts] for improved performance"
   ]
  }
 ],
 "metadata": {
  "kernelspec": {
   "display_name": "Python 3",
   "language": "python",
   "name": "python3"
  },
  "language_info": {
   "codemirror_mode": {
    "name": "ipython",
    "version": 3
   },
   "file_extension": ".py",
   "mimetype": "text/x-python",
   "name": "python",
   "nbconvert_exporter": "python",
   "pygments_lexer": "ipython3",
   "version": "3.6.3"
  }
 },
 "nbformat": 4,
 "nbformat_minor": 1
}
